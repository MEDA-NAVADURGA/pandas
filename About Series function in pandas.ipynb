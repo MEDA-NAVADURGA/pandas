{
 "cells": [
  {
   "cell_type": "markdown",
   "id": "e9d216e5",
   "metadata": {},
   "source": [
    "Series:-\n",
    "==========="
   ]
  },
  {
   "cell_type": "markdown",
   "id": "9a966c91",
   "metadata": {},
   "source": [
    "=> it is one-dimensional labelled array(capable of storing homogeneous data of any type(integer,string,float....)).\n",
    "=>the axis labels are collectively index.\n",
    "=>pandas series is nothing but a column value in excel sheet.\n",
    "=>pandas series values are mutable.\n",
    "=>pandas series cotain heterogeous data(internally even we store different types,treated as object type. )"
   ]
  },
  {
   "cell_type": "markdown",
   "id": "0b0714a5",
   "metadata": {},
   "source": [
    "              ======================================================\n",
    "                            CREATING AN SERIOUS\n",
    "              ======================================================\n",
    "  => A series object is created by using the following syntax.\n",
    "  \n",
    "              --------------------------------------------------------\n",
    "                SYNTAX:= var_name=pd.Series(object,index,dtype)\n",
    "              --------------------------------------------------------\n",
    "              \n",
    "  => here var_name is an object of <class pandas.core.series.Series>\n",
    "    \n",
    "  => here object is may be list or tuple or dict,ndarray....etc.\n",
    "    \n",
    "  => index is represents position of values present series object.it takes          default from \"0\" to \"n-1\".\n",
    "    \n",
    "  => dtype is data type(int32,int64,float32,float64.....)."
   ]
  },
  {
   "cell_type": "markdown",
   "id": "6fdac212",
   "metadata": {},
   "source": [
    "object as list:=\n",
    "=========="
   ]
  },
  {
   "cell_type": "code",
   "execution_count": 3,
   "id": "4a85eff2",
   "metadata": {},
   "outputs": [
    {
     "name": "stdout",
     "output_type": "stream",
     "text": [
      "<class 'pandas.core.series.Series'>\n"
     ]
    }
   ],
   "source": [
    "import pandas as pd\n",
    "fruits=pd.Series([\"apple\",\"mango\",\"banana\",\"grapes\"])\n",
    "print(type(fruits))"
   ]
  },
  {
   "cell_type": "code",
   "execution_count": 7,
   "id": "a8cec0ff",
   "metadata": {},
   "outputs": [
    {
     "name": "stdout",
     "output_type": "stream",
     "text": [
      "0     apple\n",
      "1     mango\n",
      "2    banana\n",
      "3    grapes\n",
      "dtype: object\n"
     ]
    }
   ],
   "source": [
    "print(fruits) #here 0,1,2,3 are default indexes"
   ]
  },
  {
   "cell_type": "code",
   "execution_count": 10,
   "id": "a64b31b6",
   "metadata": {},
   "outputs": [
    {
     "name": "stdout",
     "output_type": "stream",
     "text": [
      "apple\n"
     ]
    }
   ],
   "source": [
    "print(fruits[0])"
   ]
  },
  {
   "cell_type": "code",
   "execution_count": 13,
   "id": "339b9cf0",
   "metadata": {},
   "outputs": [
    {
     "name": "stdout",
     "output_type": "stream",
     "text": [
      "3    grapes\n",
      "2    banana\n",
      "1     mango\n",
      "0     apple\n",
      "dtype: object\n"
     ]
    }
   ],
   "source": [
    "print(fruits[::-1])"
   ]
  },
  {
   "cell_type": "code",
   "execution_count": 15,
   "id": "4528f27f",
   "metadata": {},
   "outputs": [
    {
     "name": "stdout",
     "output_type": "stream",
     "text": [
      "book1         c\n",
      "book2       cpp\n",
      "book3    python\n",
      "book4      java\n",
      "dtype: object\n"
     ]
    }
   ],
   "source": [
    "books=pd.Series([\"c\",\"cpp\",\"python\",\"java\"],index=[\"book1\",\"book2\",\"book3\",\"book4\"])\n",
    "print(books)"
   ]
  },
  {
   "cell_type": "markdown",
   "id": "84f761cf",
   "metadata": {},
   "source": [
    "object as nd-array:=\n",
    "=========="
   ]
  },
  {
   "cell_type": "code",
   "execution_count": 16,
   "id": "f108ebd7",
   "metadata": {},
   "outputs": [
    {
     "name": "stdout",
     "output_type": "stream",
     "text": [
      "[ 10  20  30  40  50  60  70  80  90 100]\n"
     ]
    }
   ],
   "source": [
    "import numpy as np\n",
    "array=np.array([10,20,30,40,50,60,70,80,90,100])\n",
    "array_to_series=pd.Series(array)\n",
    "print(array)"
   ]
  },
  {
   "cell_type": "code",
   "execution_count": 18,
   "id": "05369c36",
   "metadata": {},
   "outputs": [
    {
     "name": "stdout",
     "output_type": "stream",
     "text": [
      "0     10\n",
      "1     20\n",
      "2     30\n",
      "3     40\n",
      "4     50\n",
      "5     60\n",
      "6     70\n",
      "7     80\n",
      "8     90\n",
      "9    100\n",
      "dtype: int32\n"
     ]
    }
   ],
   "source": [
    "print(array_to_series)"
   ]
  },
  {
   "cell_type": "code",
   "execution_count": 19,
   "id": "2326de6a",
   "metadata": {},
   "outputs": [
    {
     "name": "stdout",
     "output_type": "stream",
     "text": [
      "1     apple\n",
      "2    banana\n",
      "3    grapes\n",
      "dtype: object\n"
     ]
    }
   ],
   "source": [
    "dict1={100:\"apple\",2:\"banana\",3:\"grapes\"}\n",
    "series=pd.Series(dict1)\n",
    "print(series)"
   ]
  },
  {
   "cell_type": "code",
   "execution_count": null,
   "id": "479a336e",
   "metadata": {},
   "outputs": [],
   "source": []
  }
 ],
 "metadata": {
  "kernelspec": {
   "display_name": "Python 3 (ipykernel)",
   "language": "python",
   "name": "python3"
  },
  "language_info": {
   "codemirror_mode": {
    "name": "ipython",
    "version": 3
   },
   "file_extension": ".py",
   "mimetype": "text/x-python",
   "name": "python",
   "nbconvert_exporter": "python",
   "pygments_lexer": "ipython3",
   "version": "3.11.5"
  }
 },
 "nbformat": 4,
 "nbformat_minor": 5
}
