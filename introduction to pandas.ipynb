{
 "cells": [
  {
   "cell_type": "markdown",
   "id": "df166651",
   "metadata": {},
   "source": [
    "pandas:-\n",
    "==========="
   ]
  },
  {
   "cell_type": "markdown",
   "id": "4d5afdd4",
   "metadata": {},
   "source": [
    "Introduction to pandas:-\n",
    "=========\n",
    "    1) pandas is open source python library/module providing high performance and data manipulation and analysis tool.\n",
    "    \n",
    "    2)the word pandas derived from PANEL DATA.\n",
    "    \n",
    "    3)the panda concept develped by WES MCKinney in the year of 2008.\n",
    "    \n",
    "    4)the traditional python programming notm provide any module for data               \n",
    "    analysis and now python programming uses pandas as an data analysis.\n",
    "    \n",
    "    5)it is used for financial services,stastics,retails....etc.\n",
    "    \n",
    "    6)pandas module developed with c and python."
   ]
  },
  {
   "cell_type": "markdown",
   "id": "4278c679",
   "metadata": {},
   "source": [
    "instalation of pandas:=\n",
    "========================="
   ]
  },
  {
   "cell_type": "markdown",
   "id": "a0dfbbab",
   "metadata": {},
   "source": [
    "=> by using pip tool we install the pandas module\n",
    "\n",
    "     --------------------------------------------\n",
    "         syntax= pip install module_name\n",
    "     --------------------------------------------\n",
    "     \n",
    "    ex:= pip install pandas"
   ]
  },
  {
   "cell_type": "markdown",
   "id": "83f703a7",
   "metadata": {},
   "source": [
    "key features of pandas:=\n",
    "============"
   ]
  },
  {
   "cell_type": "markdown",
   "id": "d705c8f2",
   "metadata": {},
   "source": [
    "1)fast and efficient data frame with default and costmized indexing.\n",
    "2)tools for loading the data in in-memory data objects(object of    series,dataframe,panel)\n",
    "3)we can access the data from pandas by using labeled based slicing and indexing.\n",
    "4)column from in-memory data object(objects of series,dataframe, panel)can be deleted and inserted."
   ]
  }
 ],
 "metadata": {
  "kernelspec": {
   "display_name": "Python 3 (ipykernel)",
   "language": "python",
   "name": "python3"
  },
  "language_info": {
   "codemirror_mode": {
    "name": "ipython",
    "version": 3
   },
   "file_extension": ".py",
   "mimetype": "text/x-python",
   "name": "python",
   "nbconvert_exporter": "python",
   "pygments_lexer": "ipython3",
   "version": "3.11.5"
  }
 },
 "nbformat": 4,
 "nbformat_minor": 5
}
